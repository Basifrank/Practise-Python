{
  "nbformat": 4,
  "nbformat_minor": 0,
  "metadata": {
    "colab": {
      "name": "Password Generator .ipynb",
      "provenance": [],
      "collapsed_sections": [],
      "authorship_tag": "ABX9TyNgyP1nLIoCBrTHzQfFzQcD",
      "include_colab_link": true
    },
    "kernelspec": {
      "name": "python3",
      "display_name": "Python 3"
    }
  },
  "cells": [
    {
      "cell_type": "markdown",
      "metadata": {
        "id": "view-in-github",
        "colab_type": "text"
      },
      "source": [
        "<a href=\"https://colab.research.google.com/github/Basifrank/Practise-Python/blob/master/Password_Generator_.ipynb\" target=\"_parent\"><img src=\"https://colab.research.google.com/assets/colab-badge.svg\" alt=\"Open In Colab\"/></a>"
      ]
    },
    {
      "cell_type": "markdown",
      "metadata": {
        "id": "1KKb91AYtNxi",
        "colab_type": "text"
      },
      "source": [
        "Write a password generator in Python. Be creative with how you generate passwords - strong passwords have a mix of lowercase letters, uppercase letters, numbers, and symbols. The passwords should be random, generating a new password every time the user asks for a new password. Include your run-time code in a main method.\n",
        "\n",
        "Extra:\n",
        "\n",
        "Ask the user how strong they want their password to be. For weak passwords, pick a word or two from a list."
      ]
    },
    {
      "cell_type": "code",
      "metadata": {
        "id": "Q-SibyXHtFXF",
        "colab_type": "code",
        "colab": {}
      },
      "source": [
        "import random\n",
        "import string\n",
        "import re\n",
        "import secrets\n",
        "#getting systemRandom instance out of random class\n",
        "systemRandom = random.SystemRandom()\n"
      ],
      "execution_count": 0,
      "outputs": []
    },
    {
      "cell_type": "markdown",
      "metadata": {
        "id": "geLjgIpg_tUf",
        "colab_type": "text"
      },
      "source": [
        "https://pynative.com/python-generate-random-string/\n",
        "\n",
        "https://pynative.com/cryptographically-secure-random-data-in-python/"
      ]
    },
    {
      "cell_type": "code",
      "metadata": {
        "id": "qaQRRozSwJT1",
        "colab_type": "code",
        "colab": {}
      },
      "source": [
        "\n",
        "#lower_uppper_Letters = string.ascii_letters\n",
        "#random_Letter = string.ascii_letters\n",
        "#random_digit  = string.digits\n",
        "#random_Interger = random.randint(0,10)"
      ],
      "execution_count": 0,
      "outputs": []
    },
    {
      "cell_type": "code",
      "metadata": {
        "id": "RRnu42iH_jQw",
        "colab_type": "code",
        "colab": {
          "base_uri": "https://localhost:8080/",
          "height": 50
        },
        "outputId": "cf1c9ae9-4284-432c-acad-987b13c4e587"
      },
      "source": [
        "#Usig random which is less secure\n",
        "\n",
        "def password_Generator():\n",
        "    password_Length = int(input(\"What is the lenght of your passord: \"))\n",
        "    password_characters = string.ascii_letters + string.digits + string.punctuation\n",
        "    return ''.join(random.choice(password_characters) for i in range(password_Length))\n",
        "password_Generator()\n",
        "\n",
        "\n"
      ],
      "execution_count": 20,
      "outputs": [
        {
          "output_type": "stream",
          "text": [
            "What is the lenght of your passord: 10\n"
          ],
          "name": "stdout"
        },
        {
          "output_type": "execute_result",
          "data": {
            "text/plain": [
              "'-!DU)`Zd1Z'"
            ]
          },
          "metadata": {
            "tags": []
          },
          "execution_count": 20
        }
      ]
    },
    {
      "cell_type": "code",
      "metadata": {
        "id": "X9dzcE8qtOvD",
        "colab_type": "code",
        "colab": {
          "base_uri": "https://localhost:8080/",
          "height": 50
        },
        "outputId": "8013697e-676d-42f1-cc71-0b94fe9f6c47"
      },
      "source": [
        "#Usig System secure which is secure\n",
        "\n",
        "def password_Generator():\n",
        "    password_Length = int(input(\"What is the lenght of your passord: \"))\n",
        "    password_characters = string.ascii_letters + string.digits + string.punctuation\n",
        "    return ''.join(systemRandom.choice(password_characters) for i in range(password_Length))\n",
        "password_Generator()\n"
      ],
      "execution_count": 21,
      "outputs": [
        {
          "output_type": "stream",
          "text": [
            "What is the lenght of your passord: 7\n"
          ],
          "name": "stdout"
        },
        {
          "output_type": "execute_result",
          "data": {
            "text/plain": [
              "\"5>'KYG)\""
            ]
          },
          "metadata": {
            "tags": []
          },
          "execution_count": 21
        }
      ]
    },
    {
      "cell_type": "code",
      "metadata": {
        "id": "rEsrQCartNRV",
        "colab_type": "code",
        "colab": {
          "base_uri": "https://localhost:8080/",
          "height": 50
        },
        "outputId": "5c116bbb-8add-4565-b1cf-1ce855969e1b"
      },
      "source": [
        "#Using Secrets\n",
        "\n",
        "def password_Generator():\n",
        "    password_Length = int(input(\"What is the lenght of your passord: \"))\n",
        "    password_characters = string.ascii_letters + string.digits + string.punctuation\n",
        "    return ''.join(secrets.choice(password_characters) for i in range(password_Length))\n",
        "password_Generator()\n"
      ],
      "execution_count": 23,
      "outputs": [
        {
          "output_type": "stream",
          "text": [
            "What is the lenght of your passord: 8\n"
          ],
          "name": "stdout"
        },
        {
          "output_type": "execute_result",
          "data": {
            "text/plain": [
              "'\\\\Tn7_)#m'"
            ]
          },
          "metadata": {
            "tags": []
          },
          "execution_count": 23
        }
      ]
    },
    {
      "cell_type": "code",
      "metadata": {
        "id": "B8yybeK6tNUl",
        "colab_type": "code",
        "colab": {}
      },
      "source": [
        ""
      ],
      "execution_count": 0,
      "outputs": []
    },
    {
      "cell_type": "code",
      "metadata": {
        "id": "m5_wnJh5tNXi",
        "colab_type": "code",
        "colab": {}
      },
      "source": [
        ""
      ],
      "execution_count": 0,
      "outputs": []
    },
    {
      "cell_type": "code",
      "metadata": {
        "id": "OTNEPhHvtNa2",
        "colab_type": "code",
        "colab": {}
      },
      "source": [
        ""
      ],
      "execution_count": 0,
      "outputs": []
    },
    {
      "cell_type": "code",
      "metadata": {
        "id": "m494shlBtNgE",
        "colab_type": "code",
        "colab": {}
      },
      "source": [
        ""
      ],
      "execution_count": 0,
      "outputs": []
    }
  ]
}
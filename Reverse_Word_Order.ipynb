{
  "nbformat": 4,
  "nbformat_minor": 0,
  "metadata": {
    "colab": {
      "name": "Reverse Word Order.ipynb",
      "provenance": [],
      "collapsed_sections": [],
      "authorship_tag": "ABX9TyOFgXSiCnE04LPL4MZPSMal",
      "include_colab_link": true
    },
    "kernelspec": {
      "name": "python3",
      "display_name": "Python 3"
    }
  },
  "cells": [
    {
      "cell_type": "markdown",
      "metadata": {
        "id": "view-in-github",
        "colab_type": "text"
      },
      "source": [
        "<a href=\"https://colab.research.google.com/github/Basifrank/Practise-Python/blob/master/Reverse_Word_Order.ipynb\" target=\"_parent\"><img src=\"https://colab.research.google.com/assets/colab-badge.svg\" alt=\"Open In Colab\"/></a>"
      ]
    },
    {
      "cell_type": "markdown",
      "metadata": {
        "id": "tyc9A-gXc4uZ",
        "colab_type": "text"
      },
      "source": [
        "Write a program (using functions!) that asks the user for a long string containing multiple words. Print back to the user the same string, except with the words in backwards order. For example, say I type the string:"
      ]
    },
    {
      "cell_type": "code",
      "metadata": {
        "id": "1PNc0HN7crOY",
        "colab_type": "code",
        "colab": {}
      },
      "source": [
        ""
      ],
      "execution_count": 0,
      "outputs": []
    },
    {
      "cell_type": "code",
      "metadata": {
        "id": "q-QGsnXGdBGv",
        "colab_type": "code",
        "colab": {
          "base_uri": "https://localhost:8080/",
          "height": 34
        },
        "outputId": "cf47983f-7c35-425b-a9dc-605cb2c82529"
      },
      "source": [
        "teststring = \"  this has a lot of spaces and tabs \"\n",
        "result = teststring.split()\n",
        "\n",
        "print(result[::-1])"
      ],
      "execution_count": 2,
      "outputs": [
        {
          "output_type": "stream",
          "text": [
            "['tabs', 'and', 'spaces', 'of', 'lot', 'a', 'has', 'this']\n"
          ],
          "name": "stdout"
        }
      ]
    },
    {
      "cell_type": "code",
      "metadata": {
        "id": "44hMtTZEdBLn",
        "colab_type": "code",
        "colab": {
          "base_uri": "https://localhost:8080/",
          "height": 50
        },
        "outputId": "62f7e98a-0c43-4c21-a332-5c5c4308a8f2"
      },
      "source": [
        "def sentence_Reversal():\n",
        "    var_Sent = input(\"Please type in your sentence: \")\n",
        "    sentence_Split = var_Sent.split()\n",
        "    print(sentence_Split[::-1]) \n",
        "sentence_Reversal()\n"
      ],
      "execution_count": 6,
      "outputs": [
        {
          "output_type": "stream",
          "text": [
            "Please type in your sentence: My love is your greatest defense\n",
            "['defense', 'greatest', 'your', 'is', 'love', 'My']\n"
          ],
          "name": "stdout"
        }
      ]
    },
    {
      "cell_type": "code",
      "metadata": {
        "id": "GwOMej3tcwqh",
        "colab_type": "code",
        "colab": {
          "base_uri": "https://localhost:8080/",
          "height": 50
        },
        "outputId": "67f9766c-7f25-4d47-ec6a-40f59c6b67e2"
      },
      "source": [
        "def sentence_Reversal():\n",
        "    var_Sent = input(\"Please type in your sentence: \")\n",
        "    sentence_Split = reversed(var_Sent.split())\n",
        "    print(\" \".join(sentence_Split)) \n",
        "sentence_Reversal()"
      ],
      "execution_count": 13,
      "outputs": [
        {
          "output_type": "stream",
          "text": [
            "Please type in your sentence: I am a man\n",
            "man a am I\n"
          ],
          "name": "stdout"
        }
      ]
    },
    {
      "cell_type": "code",
      "metadata": {
        "id": "Z6PCwqdmcwuo",
        "colab_type": "code",
        "colab": {}
      },
      "source": [
        ""
      ],
      "execution_count": 0,
      "outputs": []
    },
    {
      "cell_type": "code",
      "metadata": {
        "id": "67R8Wo0Ucwym",
        "colab_type": "code",
        "colab": {}
      },
      "source": [
        ""
      ],
      "execution_count": 0,
      "outputs": []
    },
    {
      "cell_type": "code",
      "metadata": {
        "id": "Imjg-sVccw2m",
        "colab_type": "code",
        "colab": {}
      },
      "source": [
        ""
      ],
      "execution_count": 0,
      "outputs": []
    },
    {
      "cell_type": "code",
      "metadata": {
        "id": "Hn0TPbgzcw6u",
        "colab_type": "code",
        "colab": {}
      },
      "source": [
        ""
      ],
      "execution_count": 0,
      "outputs": []
    }
  ]
}
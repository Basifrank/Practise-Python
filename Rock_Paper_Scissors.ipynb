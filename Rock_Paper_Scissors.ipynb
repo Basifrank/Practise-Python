{
  "nbformat": 4,
  "nbformat_minor": 0,
  "metadata": {
    "colab": {
      "name": "Rock Paper Scissors.ipynb",
      "provenance": [],
      "collapsed_sections": [],
      "toc_visible": true,
      "authorship_tag": "ABX9TyN8tXfNDShZ6RGAryj5tb/Q",
      "include_colab_link": true
    },
    "kernelspec": {
      "name": "python3",
      "display_name": "Python 3"
    }
  },
  "cells": [
    {
      "cell_type": "markdown",
      "metadata": {
        "id": "view-in-github",
        "colab_type": "text"
      },
      "source": [
        "<a href=\"https://colab.research.google.com/github/Basifrank/Practise-Python/blob/master/Rock_Paper_Scissors.ipynb\" target=\"_parent\"><img src=\"https://colab.research.google.com/assets/colab-badge.svg\" alt=\"Open In Colab\"/></a>"
      ]
    },
    {
      "cell_type": "markdown",
      "metadata": {
        "id": "FxEu6zzQJXL_",
        "colab_type": "text"
      },
      "source": [
        "\n",
        "\n",
        "Make a two-player Rock-Paper-Scissors game. (Hint: Ask for player plays (using input), compare them, print out a message of congratulations to the winner, and ask if the players want to start a new game)\n",
        "\n",
        "Remember the rules:\n",
        "\n",
        "Rock beats scissors\n",
        "Scissors beats paper\n",
        "Paper beats rock\n"
      ]
    },
    {
      "cell_type": "code",
      "metadata": {
        "id": "NEQolvlFHvHw",
        "colab_type": "code",
        "outputId": "9f99c909-cb20-427d-f0fb-5ee485bc0eb1",
        "colab": {
          "base_uri": "https://localhost:8080/",
          "height": 51
        }
      },
      "source": [
        "game_Cards = [\"Rock\", \"Scissors\", \"Paper\"]\n",
        "\n",
        "player1 = input(\"Plese input your card:  \")\n",
        "\n",
        "player2 = input(\"Please input your card:  \")\n"
      ],
      "execution_count": 8,
      "outputs": [
        {
          "output_type": "stream",
          "text": [
            "Plese input your card:  Paper\n",
            "Please input your card:  Scissors\n"
          ],
          "name": "stdout"
        }
      ]
    },
    {
      "cell_type": "code",
      "metadata": {
        "id": "d_S21jWpJVlo",
        "colab_type": "code",
        "outputId": "e5873b18-7406-41c1-ac70-0958e02b35de",
        "colab": {
          "base_uri": "https://localhost:8080/",
          "height": 34
        }
      },
      "source": [
        "while player1 in game_Cards:\n",
        "    if player1 == player2:\n",
        "        print(\"Play again\")\n",
        "        break\n",
        "\n",
        "    elif player1==\"Rock\" and player2 == \"Scissors\":\n",
        "        print(\"player1 wins\")\n",
        "        break\n",
        "    elif player1==\"Rock\" and player2 == \"Paper\":\n",
        "        print(\"player2 wins\")\n",
        "        break\n",
        "\n",
        "    elif player1==\"Scissors\" and player2 == \"Rock\":\n",
        "        print(\"player2 wins\")\n",
        "        break\n",
        "        \n",
        "    elif player1==\"Scissors\" and player2 == \"Paper\":\n",
        "        print(\"player1 wins\")\n",
        "        break\n",
        "\n",
        "    elif player1==\"Paper\" and player2 == \"Scissors\":\n",
        "        print(\"player2 wins\")\n",
        "        break\n",
        "    elif player1==\"Paper\" and player2 == \"Rock\":\n",
        "        print(\"player1 wins\")\n",
        "        break\n",
        "else:\n",
        "    print(\"One item not in game\")\n",
        "\n",
        "    \n",
        "    \n",
        "    \n"
      ],
      "execution_count": 9,
      "outputs": [
        {
          "output_type": "stream",
          "text": [
            "player2 wins\n"
          ],
          "name": "stdout"
        }
      ]
    },
    {
      "cell_type": "code",
      "metadata": {
        "id": "5zgkbHvNJez4",
        "colab_type": "code",
        "colab": {}
      },
      "source": [
        ""
      ],
      "execution_count": 0,
      "outputs": []
    }
  ]
}
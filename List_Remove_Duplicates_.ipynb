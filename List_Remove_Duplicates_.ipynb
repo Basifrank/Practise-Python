{
  "nbformat": 4,
  "nbformat_minor": 0,
  "metadata": {
    "colab": {
      "name": "List Remove Duplicates .ipynb",
      "provenance": [],
      "collapsed_sections": [],
      "authorship_tag": "ABX9TyO10K+gytLijE8dV6JOrUYl",
      "include_colab_link": true
    },
    "kernelspec": {
      "name": "python3",
      "display_name": "Python 3"
    }
  },
  "cells": [
    {
      "cell_type": "markdown",
      "metadata": {
        "id": "view-in-github",
        "colab_type": "text"
      },
      "source": [
        "<a href=\"https://colab.research.google.com/github/Basifrank/Practise-Python/blob/master/List_Remove_Duplicates_.ipynb\" target=\"_parent\"><img src=\"https://colab.research.google.com/assets/colab-badge.svg\" alt=\"Open In Colab\"/></a>"
      ]
    },
    {
      "cell_type": "markdown",
      "metadata": {
        "id": "Jc1b6FhqHS-z",
        "colab_type": "text"
      },
      "source": [
        "Write a program (function!) that takes a list and returns a new list that contains all the elements of the first list minus all the duplicates.\n",
        "\n",
        "Extras:\n",
        "\n",
        "Write two different functions to do this - one using a loop and constructing a list, and another using sets.\n",
        "Go back and do Exercise 5 using sets, and write the solution for that in a different function."
      ]
    },
    {
      "cell_type": "code",
      "metadata": {
        "id": "zRW8etDHHH2H",
        "colab_type": "code",
        "colab": {}
      },
      "source": [
        "import random   "
      ],
      "execution_count": 0,
      "outputs": []
    },
    {
      "cell_type": "code",
      "metadata": {
        "id": "ltN4KIdkHT_S",
        "colab_type": "code",
        "outputId": "9cd820ed-7d45-4d56-e900-d39c0bc57391",
        "colab": {
          "base_uri": "https://localhost:8080/",
          "height": 34
        }
      },
      "source": [
        "#Function to compare two list and remove duplicate numbers\n",
        "\n",
        "ran_List = random.sample(range(1, 20), 11)\n",
        "\n",
        "ran_List2 = random.sample(range(1, 25), 12)\n",
        "\n",
        "new_List = []\n",
        "\n",
        "def newList(my_list, my_list2):\n",
        "    for num in my_list:\n",
        "        new_List.append(num)\n",
        "    for num2 in my_list2:\n",
        "        if num2 not in ran_List:\n",
        "            new_List.append(num2)\n",
        "    return new_List\n",
        "\n",
        "newList(ran_List, ran_List2)\n",
        "\n",
        "#print(ran_List)\n",
        "#print(new_List)"
      ],
      "execution_count": 0,
      "outputs": [
        {
          "output_type": "execute_result",
          "data": {
            "text/plain": [
              "[13, 14, 1, 12, 19, 10, 3, 11, 18, 16, 7, 17, 9, 6, 20, 8, 5, 4, 22]"
            ]
          },
          "metadata": {
            "tags": []
          },
          "execution_count": 19
        }
      ]
    },
    {
      "cell_type": "code",
      "metadata": {
        "id": "GbluNNMiaa5M",
        "colab_type": "code",
        "colab": {
          "base_uri": "https://localhost:8080/",
          "height": 50
        },
        "outputId": "b4e3f733-9f52-4989-942e-21ca9fb80b76"
      },
      "source": [
        "\n",
        "#Program to generate random list and remove duplicate values using for loops\n",
        "\n",
        "def generate_List():\n",
        "    ran_List3 = random.sample(range(1, 20), 11)\n",
        "    ran_List4 = random.sample(range(1, 25), 12)\n",
        "    new_List6 = []\n",
        "    for num in ran_List3:\n",
        "        new_List6.append(num)\n",
        "    for num2 in ran_List4:\n",
        "        new_List6.append(num2)\n",
        "    return new_List6\n",
        "\n",
        "def remove_Duplicaate(func_List):\n",
        "    new_List7 = []\n",
        "    for num in func_List:\n",
        "        if num not in new_List7:\n",
        "            new_List7.append(num)\n",
        "    print(new_List7)\n",
        "            \n",
        "remove_Duplicaate(generate_List())\n",
        "\n",
        "#Program to generate random list and remove duplicate values using set\n",
        "\n",
        "def generate_List2():\n",
        "    ran_List3 = random.sample(range(1, 20), 11)\n",
        "    ran_List4 = random.sample(range(1, 25), 12)\n",
        "    new_List6 = []\n",
        "    for num in ran_List3:\n",
        "        new_List6.append(num)\n",
        "    for num2 in ran_List4:\n",
        "        new_List6.append(num2)\n",
        "    return new_List6\n",
        "\n",
        "def remove_Duplicaate2(func_List):\n",
        "    print(list(set(func_List)))\n",
        "            \n",
        "remove_Duplicaate2(generate_List2())\n",
        "\n"
      ],
      "execution_count": 28,
      "outputs": [
        {
          "output_type": "stream",
          "text": [
            "[11, 16, 17, 8, 2, 3, 15, 13, 19, 4, 5, 10, 20, 9, 12, 23, 24, 18]\n",
            "[1, 3, 4, 5, 7, 8, 9, 10, 11, 12, 13, 15, 16, 17, 19, 20, 21, 22, 24]\n"
          ],
          "name": "stdout"
        }
      ]
    },
    {
      "cell_type": "code",
      "metadata": {
        "id": "tx4l2wsHbWIB",
        "colab_type": "code",
        "colab": {}
      },
      "source": [
        ""
      ],
      "execution_count": 0,
      "outputs": []
    },
    {
      "cell_type": "code",
      "metadata": {
        "id": "8xqHDaCobWLw",
        "colab_type": "code",
        "colab": {}
      },
      "source": [
        ""
      ],
      "execution_count": 0,
      "outputs": []
    },
    {
      "cell_type": "code",
      "metadata": {
        "id": "XbMgfGI0bWPp",
        "colab_type": "code",
        "colab": {}
      },
      "source": [
        ""
      ],
      "execution_count": 0,
      "outputs": []
    },
    {
      "cell_type": "code",
      "metadata": {
        "id": "QGAa2vkUbWTv",
        "colab_type": "code",
        "colab": {}
      },
      "source": [
        ""
      ],
      "execution_count": 0,
      "outputs": []
    },
    {
      "cell_type": "code",
      "metadata": {
        "id": "nd9pzJJkabAQ",
        "colab_type": "code",
        "colab": {}
      },
      "source": [
        "#Program to generate new list from two randomly selected list\n",
        "\n",
        "def generate_List():\n",
        "    ran_List3 = random.sample(range(1, 20), 11)\n",
        "    ran_List4 = random.sample(range(1, 25), 12)\n",
        "    new_List6 = []\n",
        "    for num in ran_List3:\n",
        "        new_List6.append(num)\n",
        "    for num2 in ran_List4:\n",
        "        new_List6.append(num2)\n",
        "    return new_List6\n",
        "generate_List()\n",
        "\n",
        "#Function to remove the duplicate generated from the list above and generate a new list\n",
        "\n",
        "def remove_Duplicaate(func_List):\n",
        "    new_List7 = []\n",
        "    for num in func_List:\n",
        "        if num not in new_List7:\n",
        "            new_List7.append(num)\n",
        "    print(new_List7)\n",
        "            \n",
        "remove_Duplicaate(new_List6)\n"
      ],
      "execution_count": 0,
      "outputs": []
    }
  ]
}